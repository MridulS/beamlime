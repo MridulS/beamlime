{
 "cells": [
  {
   "cell_type": "markdown",
   "id": "97b129de-c23b-40a6-81dd-0af4d6fc4ec9",
   "metadata": {},
   "source": [
    "# Offline Fake 2d Dedector\n",
    "\n",
    "Here is a brief overview of three applications used in this system.\n",
    "\n",
    "The sample system will use the default setting included in the ``beamlime``.\n",
    "\n",
    "## Data Feeder\n",
    "\n",
    "``beamlime.offline.data_feeder.fake_2d_detector_img_generator`` is used as a data feeder.\n",
    "\n",
    "Please see ``fake_2d_image.ipynb`` for more information.\n",
    "\n",
    "## Data Reduction\n",
    "\n",
    "``beamlime.offline.data_reduction.BeamLimeDataReductionApplication`` is used as a data reduction handling application.\n",
    "\n",
    "<!-- TODO: Create a documentation about data reduction application and link it here. -->\n",
    "\n",
    "## Visualization\n",
    "\n",
    "``bealime.offline.visualization.RealtimePlot`` is used as a visualization application.\n",
    "\n",
    "<!-- TODO: Create a documentation about visualization application and link it here. -->\n"
   ]
  },
  {
   "cell_type": "code",
   "execution_count": null,
   "id": "8d61367c-e5cb-4c63-8e50-e24dc05db802",
   "metadata": {
    "tags": []
   },
   "outputs": [],
   "source": [
    "from beamlime.resources.generated.loaders import load_static_default_config\n",
    "config = load_static_default_config()"
   ]
  },
  {
   "cell_type": "markdown",
   "id": "3ba7836a-0672-49d8-b4f0-8e75f614fabc",
   "metadata": {},
   "source": [
    "## Application Configuration\n",
    "\n",
    "Each application is configured under ``data-stream.applications`` in the configuration file.\n",
    "\n",
    "``name``: Name of the application.\n",
    "``data-handler``: Handler class that will be used for the application. The handler class should inherit ``BeamlimeApplicationInterface``.\n",
    "``timeout``: How long the application wants to wait for receiving data or sending data.\n",
    "``wait-interval``: How often does the application wants to check if it can resume the work.\n",
    "\n",
    "``timeout`` and ``wait-interval`` can be used with ``async_timeout`` decorator for various Exceptions.\n",
    "\n",
    "<!-- TODO: Remove this configuration description after writing a proper documentation. -->"
   ]
  },
  {
   "cell_type": "code",
   "execution_count": null,
   "id": "0856a34c-51d7-4579-a317-d9bb521911d8",
   "metadata": {
    "tags": []
   },
   "outputs": [],
   "source": [
    "config['data-stream']['applications']"
   ]
  },
  {
   "cell_type": "markdown",
   "id": "29fb814f-68f9-492b-b2d6-e9dae42bae84",
   "metadata": {},
   "source": [
    "## Logging\n",
    "\n",
    "If logger is not given, the system will initiate a logger with the name ``beamlime``.\n",
    "\n",
    "In this example, we will use ``scipp`` logger to use log widget.\n",
    "\n",
    "Note that if you want to set the log level to ``logging.DEBUG``(0),\n",
    "\n",
    "you will need to set ``widget_handler.level`` to logging.DEBUG specifically since ``logger.setLevel`` will not be sufficient.\n",
    "\n",
    "Any level above ``logging.INFO`` should be fine.\n",
    "\n",
    "```\n",
    "widget_handler.level = logging.DEBUG\n",
    "logger.setLevel('DEBUG')\n",
    "```"
   ]
  },
  {
   "cell_type": "code",
   "execution_count": null,
   "id": "e0342ed0-de4d-419a-9952-706d87f0fb28",
   "metadata": {
    "tags": []
   },
   "outputs": [],
   "source": [
    "import scipp as sc\n",
    "%matplotlib widget\n",
    "\n",
    "logger = sc.get_logger()\n",
    "widget_handler = sc.logging.make_widget_handler()\n",
    "logger.addHandler(widget_handler)\n",
    "logger.setLevel('INFO')"
   ]
  },
  {
   "cell_type": "markdown",
   "id": "143b18b3-0895-4103-8801-f4451c4a1ca1",
   "metadata": {},
   "source": [
    "Logs will be shown in the widget below."
   ]
  },
  {
   "cell_type": "code",
   "execution_count": null,
   "id": "ce97003f-027f-4649-afd5-92a52d135bf3",
   "metadata": {
    "tags": []
   },
   "outputs": [],
   "source": [
    "sc.display_logs()"
   ]
  },
  {
   "cell_type": "markdown",
   "id": "b0e3e614-184b-43b6-85c5-427621959700",
   "metadata": {},
   "source": [
    "## Instantiate the system\n",
    "\n",
    "Now you create a system instance with the ``configuration`` (if not given, it'll use the default one) and the ``logger``.\n",
    "\n",
    "It will then instantiate all the applications according to the configuration and get ready to start.\n",
    "\n",
    "All applications are connected by ``Queue`` with each other, and the direction of the data-flow is downstream.\n",
    "\n",
    "> ``data-feeder`` -> Queue -> ``data-reduction`` -> Queue -> ``visualization``\n",
    "\n",
    "The ``data-feeder`` app will keep creating a frame of fake data and pushing it into the ``Queue``, \n",
    "\n",
    "and the ``data-reduction`` app will keep drawing the data from the ``Queue`` and reducing the data and pushing the result into the next ``Queue``,\n",
    "\n",
    "and the ``visualization`` app will keep drawing the data from the ``Queue`` and update the plot.\n"
   ]
  },
  {
   "cell_type": "code",
   "execution_count": null,
   "id": "21216669-a8c1-45c8-9c2f-11d7e0eff0bf",
   "metadata": {
    "tags": []
   },
   "outputs": [],
   "source": [
    "from beamlime.core.system import BeamlimeSystem\n",
    "\n",
    "manager = BeamlimeSystem(config=config, logger=logger)"
   ]
  },
  {
   "cell_type": "markdown",
   "id": "508ee1db-6cf6-4a51-957a-9efcb9dccc26",
   "metadata": {},
   "source": [
    "In the jupyter notebook, it is easy to mess up the async event loop, \n",
    "\n",
    "so instead of using ``run`` interface, we will create the task from the coroutine.\n",
    "\n",
    "Once you start the coroutine, the logs will be collected in the widget above."
   ]
  },
  {
   "cell_type": "code",
   "execution_count": null,
   "id": "ee588828-b095-4038-abf0-5e51c19f4c5e",
   "metadata": {
    "tags": []
   },
   "outputs": [],
   "source": [
    "tasks = manager.create_task()"
   ]
  },
  {
   "cell_type": "code",
   "execution_count": null,
   "id": "2e3c4f9f-dbe4-40d6-bf99-cd22bb5f040b",
   "metadata": {
    "tags": []
   },
   "outputs": [],
   "source": [
    "tasks"
   ]
  },
  {
   "cell_type": "raw",
   "id": "b2674350-7a49-4708-9fb7-23e778280b59",
   "metadata": {},
   "source": [
    "Now you can plot the real-time-updating plot.\n",
    "\n",
    "Currently we don't have a special interface for this purpose so we will just use the attribute of the application instance.\n",
    "\n",
    "Visualization waits a couple of seconds more than other applications to make sure the ``Queue`` is not empty at the beginning,\n",
    "\n",
    "so you might need to rerun the cell ...!"
   ]
  },
  {
   "cell_type": "code",
   "execution_count": null,
   "id": "917f6bfc-129c-495c-9472-65aef5d87027",
   "metadata": {
    "tags": []
   },
   "outputs": [],
   "source": [
    "list(manager.applications['visualisation']._instances.values())[0].figs['heatmap']"
   ]
  },
  {
   "cell_type": "markdown",
   "id": "07842bdc-946f-448e-907d-38022acc5c4f",
   "metadata": {},
   "source": [
    "## Kill and repopulate the application instances.\n",
    "\n",
    "Let's try run the coroutine again, and then you can see the plot is stacking the new ones on top of the old result."
   ]
  },
  {
   "cell_type": "code",
   "execution_count": null,
   "id": "95322189-6496-4811-bbcb-dc8a73c76c0f",
   "metadata": {
    "tags": []
   },
   "outputs": [],
   "source": [
    "manager.create_task()"
   ]
  },
  {
   "cell_type": "markdown",
   "id": "45090603-31db-4406-a3bf-10439b4b6649",
   "metadata": {
    "tags": []
   },
   "source": [
    "If you want a fresh start, you can kill the visualization instance and populate it again."
   ]
  },
  {
   "cell_type": "code",
   "execution_count": null,
   "id": "8d83e09f-20a0-4fb3-a264-898e740ddc45",
   "metadata": {
    "tags": []
   },
   "outputs": [],
   "source": [
    "manager.applications['data-reduction'].kill()\n",
    "manager.applications['visualisation'].kill()\n",
    "manager.applications['data-reduction'].populate()\n",
    "manager.applications['visualisation'].populate()"
   ]
  },
  {
   "cell_type": "code",
   "execution_count": null,
   "id": "a343698f-6542-4193-9a29-ac173dbc72fa",
   "metadata": {
    "tags": []
   },
   "outputs": [],
   "source": [
    "manager.create_task()"
   ]
  },
  {
   "cell_type": "code",
   "execution_count": null,
   "id": "b248f086-f3c4-4ca9-a6cc-0ebd50d7e937",
   "metadata": {
    "tags": []
   },
   "outputs": [],
   "source": [
    "list(manager.applications['visualisation']._instances.values())[0].figs['heatmap']"
   ]
  }
 ],
 "metadata": {
  "kernelspec": {
   "display_name": "Python 3 (ipykernel)",
   "language": "python",
   "name": "python3"
  },
  "language_info": {
   "codemirror_mode": {
    "name": "ipython",
    "version": 3
   },
   "file_extension": ".py",
   "mimetype": "text/x-python",
   "name": "python",
   "nbconvert_exporter": "python",
   "pygments_lexer": "ipython3",
   "version": "3.9.16"
  }
 },
 "nbformat": 4,
 "nbformat_minor": 5
}
