{
 "cells": [
  {
   "cell_type": "code",
   "execution_count": null,
   "id": "48d3a6e8-c97a-49ef-be51-49c3f5c42669",
   "metadata": {
    "tags": []
   },
   "outputs": [],
   "source": [
    "import scipp as sc\n",
    "import plopp as pp\n",
    "import numpy as np\n",
    "from matplotlib import pyplot as plt\n",
    "from math import sqrt\n",
    "from beamlime.resources import load_icon_img\n",
    "from beamlime.resources.images.generators import fake_2d_detector_img_generator\n",
    "\n",
    "%matplotlib widget"
   ]
  },
  {
   "cell_type": "code",
   "execution_count": null,
   "id": "1a8dd8ba-ccfc-4685-b1f8-ce5a2f52e026",
   "metadata": {
    "tags": []
   },
   "outputs": [],
   "source": [
    "from PIL import Image\n",
    "from PIL.ImageOps import flip\n",
    "original_img = Image.fromarray(np.uint8(load_icon_img()))\n",
    "plt.imshow(Image.fromarray(np.uint8(original_img)))"
   ]
  },
  {
   "cell_type": "code",
   "execution_count": null,
   "id": "77c628db-572e-4a09-8baa-810774f7d2ce",
   "metadata": {
    "tags": []
   },
   "outputs": [],
   "source": [
    "# Data Processing Options\n",
    "detector_size = (64, 64)\n",
    "x_size = detector_size[0]+1\n",
    "y_size = detector_size[1]+1\n",
    "\n",
    "# Fake Data Generating Options\n",
    "num_frame = 128"
   ]
  },
  {
   "cell_type": "code",
   "execution_count": null,
   "id": "64983e62-642a-4958-b7e9-f06ad513ff9a",
   "metadata": {
    "tags": []
   },
   "outputs": [],
   "source": [
    "resized_img = original_img.resize(detector_size)\n",
    "# flip it since image (0, 0) is top-left and histogram plot (0, 0) is top-bottom\n",
    "seed_img = np.asarray(flip(resized_img), dtype=np.float64)"
   ]
  },
  {
   "cell_type": "code",
   "execution_count": null,
   "id": "7ce4f8bd-8c18-4f9d-b7fa-bd986dbe0389",
   "metadata": {
    "tags": []
   },
   "outputs": [],
   "source": [
    "def process_img(img, threshold=0.4):\n",
    "    heatmap = sc.array(dims=['x', 'y'], values=img)\n",
    "    da = sc.DataArray(data=heatmap, coords={'x': sc.linspace('x', 0, x_size, x_size, unit='mm'),\n",
    "                                         'y': sc.linspace('y', 0, y_size, y_size, unit='mm')})\n",
    "    threshold_mask = (da.values > threshold)*np.ones(da.shape)\n",
    "    da.values *= threshold_mask\n",
    "    return da"
   ]
  },
  {
   "cell_type": "code",
   "execution_count": null,
   "id": "dd3b5977-e232-4dcc-ab5e-ce7a694c1d9b",
   "metadata": {
    "tags": []
   },
   "outputs": [],
   "source": [
    "base = sc.DataArray(data=sc.zeros(sizes={'y': detector_size[1], 'x': detector_size[0]}),\n",
    "                    coords={'x': sc.linspace('x', 0, x_size, x_size, unit='mm'),\n",
    "                            'y': sc.linspace('y', 0, y_size, y_size, unit='mm')})\n",
    "\n",
    "generator = iter(fake_2d_detector_img_generator(seed_img, num_frame=num_frame, threshold=0.5, noise_range=0.55))\n",
    "\n",
    "for simg in generator:\n",
    "    sda = process_img(simg, threshold=-float('inf'))\n",
    "    base.values += sda.values\n",
    "\n",
    "base.plot(title=\"Without Filtering\")"
   ]
  },
  {
   "cell_type": "code",
   "execution_count": null,
   "id": "98054647-8a21-42f2-bfb4-68752cbaa4e8",
   "metadata": {
    "tags": []
   },
   "outputs": [],
   "source": [
    "a = sda.plot()"
   ]
  },
  {
   "cell_type": "code",
   "execution_count": null,
   "id": "d984df87-937b-4e0c-83cd-fd7ead44dfa8",
   "metadata": {
    "tags": []
   },
   "outputs": [],
   "source": [
    "generator = iter(fake_2d_detector_img_generator(seed_img, num_frame=num_frame, threshold=0.5, noise_range=0.55))\n",
    "\n",
    "for iframe, simg in enumerate(generator):\n",
    "    sda = process_img(simg, threshold=-float('inf'))\n",
    "    if iframe < 18:\n",
    "        ax_x = iframe % 6\n",
    "        ax_y = iframe // 6\n",
    "        ax = axs[ax_y][ax_x]\n",
    "        sda.plot(ax=ax).cax.set(ylabel=None, yticks=[])\n",
    "        ax.set(xlabel=None, ylabel=None, xticks=[], yticks=[])"
   ]
  },
  {
   "cell_type": "code",
   "execution_count": null,
   "id": "981f1ce1-ebfe-42a1-aa8a-ff40506e6630",
   "metadata": {
    "tags": []
   },
   "outputs": [],
   "source": [
    "fig, axs = plt.subplots(3, 6, figsize=(12,6))\n",
    "fig.suptitle('Detector Image Frames To Be Fed - First 18')"
   ]
  },
  {
   "cell_type": "code",
   "execution_count": null,
   "id": "96fedf1a-1866-4f44-acd0-d024d0f4c604",
   "metadata": {
    "tags": []
   },
   "outputs": [],
   "source": [
    "base = sc.DataArray(data=sc.zeros(sizes={'y': detector_size[1], 'x': detector_size[0]}),\n",
    "                    coords={'x': sc.linspace('x', 0, x_size, x_size, unit='mm'),\n",
    "                            'y': sc.linspace('y', 0, y_size, y_size, unit='mm')})\n",
    "\n",
    "generator = iter(fake_2d_detector_img_generator(seed_img, num_frame=num_frame, threshold=0.5, noise_range=0.55))\n",
    "\n",
    "for simg in generator:\n",
    "    sda = process_img(simg, threshold=0.6)\n",
    "    base.values += sda.values\n",
    "\n",
    "base.plot(title=\"After Filtering\")"
   ]
  },
  {
   "cell_type": "code",
   "execution_count": null,
   "id": "b9b0b51f-5eb3-4f0b-ace9-1575d9604412",
   "metadata": {
    "tags": []
   },
   "outputs": [],
   "source": [
    "import json\n",
    "import asyncio\n",
    "for frame in fake_2d_detector_img_generator(seed_img):\n",
    "    fake_data = {\n",
    "        \"sample_id\": \"typical-lime-intaglio-0\",\n",
    "        \"detector-data\": { {\n",
    "                \"detector-id\": \"unknown-2d-detector\",\n",
    "                \"image\": frame.tolist()\n",
    "            }\n",
    "        }\n",
    "    }\n",
    "    #queue.put(fake_data)"
   ]
  }
 ],
 "metadata": {
  "kernelspec": {
   "display_name": "Python 3 (ipykernel)",
   "language": "python",
   "name": "python3"
  },
  "language_info": {
   "codemirror_mode": {
    "name": "ipython",
    "version": 3
   },
   "file_extension": ".py",
   "mimetype": "text/x-python",
   "name": "python",
   "nbconvert_exporter": "python",
   "pygments_lexer": "ipython3",
   "version": "3.10.9"
  }
 },
 "nbformat": 4,
 "nbformat_minor": 5
}
