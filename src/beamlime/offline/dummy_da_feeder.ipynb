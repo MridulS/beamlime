{
 "cells": [
  {
   "cell_type": "code",
   "execution_count": null,
   "id": "48d3a6e8-c97a-49ef-be51-49c3f5c42669",
   "metadata": {
    "tags": []
   },
   "outputs": [],
   "source": [
    "import scipp as sc\n",
    "import plopp as pp\n",
    "import numpy as np\n",
    "from math import sqrt\n",
    "from scipp.serialization import serialize, deserialize\n",
    "%matplotlib widget"
   ]
  },
  {
   "cell_type": "code",
   "execution_count": null,
   "id": "7a3c35e3-787f-4fbb-95b2-aa28aa7696b7",
   "metadata": {
    "tags": []
   },
   "outputs": [],
   "source": [
    "coords = np.array([(_x, _y) for _y in np.linspace(-10, 10, 51)\n",
    "                       for _x in np.linspace(-10, 10, 51)])\n",
    "x_coords = sc.array(dims=['x'], values=coords[:, 0], unit='m')\n",
    "y_coords = sc.array(dims=['y'], values=coords[:, 1], unit='m')"
   ]
  },
  {
   "cell_type": "code",
   "execution_count": null,
   "id": "5a629d3c-2eb5-4246-b2fc-a24c36b2dd79",
   "metadata": {
    "tags": []
   },
   "outputs": [],
   "source": [
    "def create_obj():\n",
    "    return sc.DataArray(data=sc.zeros(sizes={'y': 50, 'x': 50}),\n",
    "                                 coords={'x': sc.linspace('x', -10, 10, 51, unit='m'),\n",
    "                                         'y': sc.linspace('y', -10, 10, 51, unit='m')})\n",
    "\n",
    "da = create_obj()"
   ]
  },
  {
   "cell_type": "code",
   "execution_count": null,
   "id": "2a08cbc6-b035-416f-8c14-4b343e9607be",
   "metadata": {
    "tags": []
   },
   "outputs": [],
   "source": [
    "da"
   ]
  },
  {
   "cell_type": "code",
   "execution_count": null,
   "id": "42037854-8820-4366-a464-520a52753c4b",
   "metadata": {
    "tags": []
   },
   "outputs": [],
   "source": [
    "fig = pp.figure2d(stream_node)"
   ]
  },
  {
   "cell_type": "code",
   "execution_count": null,
   "id": "f2285639-caf0-424e-97b8-bea5a876cc3f",
   "metadata": {
    "tags": []
   },
   "outputs": [],
   "source": [
    "fig"
   ]
  },
  {
   "cell_type": "code",
   "execution_count": null,
   "id": "5e28fef2-5a5a-4b3c-8f7a-e182f96d57a2",
   "metadata": {
    "tags": []
   },
   "outputs": [],
   "source": [
    "import matplotlib.image as mpimg"
   ]
  },
  {
   "cell_type": "code",
   "execution_count": null,
   "id": "dbc8a57c-4185-4694-8072-ee7db63cac3d",
   "metadata": {
    "tags": []
   },
   "outputs": [],
   "source": [
    "img = mpimg.imread(\"../../../docs/resources/icon.png\")"
   ]
  },
  {
   "cell_type": "code",
   "execution_count": null,
   "id": "760bba23-3279-4ffa-aef0-685aea8e42d9",
   "metadata": {
    "tags": []
   },
   "outputs": [],
   "source": [
    "indices = [[x, y] for y in range(256) for x in range(256) if sum(img[x][y]) > 0]\n",
    "# for x in range(256):\n",
    "#     for y in range(256):\n",
    "#         if sum(img[x][y]) > 0:\n",
    "#             indices.append([x, y])"
   ]
  },
  {
   "cell_type": "code",
   "execution_count": null,
   "id": "0a31fccd-b6eb-4a37-b4db-7d85061c2bdd",
   "metadata": {
    "tags": []
   },
   "outputs": [],
   "source": [
    "events = np.array(indices)/256*20-10"
   ]
  },
  {
   "cell_type": "code",
   "execution_count": null,
   "id": "fc95ea28-c7bb-44e6-a569-5463b45f4f06",
   "metadata": {
    "tags": []
   },
   "outputs": [],
   "source": [
    "np.random.shuffle(events)"
   ]
  },
  {
   "cell_type": "code",
   "execution_count": null,
   "id": "79144f25-335b-49ab-a96f-829685a1b004",
   "metadata": {
    "tags": []
   },
   "outputs": [],
   "source": [
    "groups = events[:-(len(events)%32)].reshape((-1,32,2))"
   ]
  },
  {
   "cell_type": "code",
   "execution_count": null,
   "id": "b4fc3bdd-5bc7-4823-9f4d-9c13f83aa1d1",
   "metadata": {
    "tags": []
   },
   "outputs": [],
   "source": [
    "igroup = 0\n",
    "\n",
    "def update_da():\n",
    "    global igroup\n",
    "    igroup += 1\n",
    "    counts, _, _ = np.histogram2d(groups[igroup][:, 1], -1*groups[igroup][:, 0],\n",
    "                                  bins=(np.linspace(-10, 10, 51),\n",
    "                                        np.linspace(-10, 10, 51)))\n",
    "    da.values += counts\n",
    "    return da"
   ]
  },
  {
   "cell_type": "code",
   "execution_count": null,
   "id": "5cabafcd-b261-4bc3-9bb7-fe7ba87d5ba6",
   "metadata": {
    "tags": []
   },
   "outputs": [],
   "source": [
    "stream_node = pp.Node(update_da)"
   ]
  },
  {
   "cell_type": "code",
   "execution_count": null,
   "id": "b9b0b51f-5eb3-4f0b-ace9-1575d9604412",
   "metadata": {
    "tags": []
   },
   "outputs": [],
   "source": [
    "import asyncio\n",
    "\n",
    "async def async_range(count):\n",
    "    for i in range(count):\n",
    "        yield(i)\n",
    "        await asyncio.sleep(0.1)\n",
    "\n",
    "async def my_stream_func(graph):\n",
    "    async for i in async_range(164):\n",
    "        graph.notify_children('update')\n",
    "\n",
    "streaming_task = asyncio.create_task(my_stream_func(stream_node))"
   ]
  },
  {
   "cell_type": "code",
   "execution_count": null,
   "id": "0a4eea2b-965c-4cf3-89e8-23a29d638c93",
   "metadata": {
    "tags": []
   },
   "outputs": [],
   "source": [
    "pp.show_graph(stream_node)"
   ]
  }
 ],
 "metadata": {
  "kernelspec": {
   "display_name": "Python 3 (ipykernel)",
   "language": "python",
   "name": "python3"
  },
  "language_info": {
   "codemirror_mode": {
    "name": "ipython",
    "version": 3
   },
   "file_extension": ".py",
   "mimetype": "text/x-python",
   "name": "python",
   "nbconvert_exporter": "python",
   "pygments_lexer": "ipython3",
   "version": "3.10.9"
  }
 },
 "nbformat": 4,
 "nbformat_minor": 5
}
