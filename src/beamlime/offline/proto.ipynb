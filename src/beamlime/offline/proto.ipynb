{
 "cells": [
  {
   "cell_type": "code",
   "execution_count": null,
   "id": "2d371f65-c8eb-4457-9b1f-f283938eac6e",
   "metadata": {
    "tags": []
   },
   "outputs": [],
   "source": [
    "import plopp as pp\n",
    "from beamlime.offline.proto import BeamLimeApplicationManager\n",
    "\n",
    "%matplotlib widget"
   ]
  },
  {
   "cell_type": "code",
   "execution_count": null,
   "id": "21216669-a8c1-45c8-9c2f-11d7e0eff0bf",
   "metadata": {
    "tags": []
   },
   "outputs": [],
   "source": [
    "manager = BeamLimeApplicationManager()"
   ]
  },
  {
   "cell_type": "code",
   "execution_count": null,
   "id": "ee588828-b095-4038-abf0-5e51c19f4c5e",
   "metadata": {
    "tags": []
   },
   "outputs": [],
   "source": [
    "import asyncio\n",
    "loop = asyncio.get_event_loop()\n",
    "\n",
    "for coroutine in manager.coroutines:\n",
    "    asyncio.run_coroutine_threadsafe(coroutine, loop)\n",
    "    \n",
    "# manager.create_task()"
   ]
  },
  {
   "cell_type": "code",
   "execution_count": null,
   "id": "917f6bfc-129c-495c-9472-65aef5d87027",
   "metadata": {
    "tags": []
   },
   "outputs": [],
   "source": [
    "manager.app_instances['visualization']._instances[0].figs['heatmap']"
   ]
  },
  {
   "cell_type": "code",
   "execution_count": null,
   "id": "5c6be80c-a6c0-4626-9aae-098f04979d7d",
   "metadata": {
    "tags": []
   },
   "outputs": [],
   "source": [
    "pp.show_graph(manager.app_instances['visualization']._instances[0].stream_nodes['heatmap'])"
   ]
  }
 ],
 "metadata": {
  "kernelspec": {
   "display_name": "Python 3 (ipykernel)",
   "language": "python",
   "name": "python3"
  },
  "language_info": {
   "codemirror_mode": {
    "name": "ipython",
    "version": 3
   },
   "file_extension": ".py",
   "mimetype": "text/x-python",
   "name": "python",
   "nbconvert_exporter": "python",
   "pygments_lexer": "ipython3",
   "version": "3.10.9"
  }
 },
 "nbformat": 4,
 "nbformat_minor": 5
}
