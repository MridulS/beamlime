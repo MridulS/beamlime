{
 "cells": [
  {
   "cell_type": "code",
   "execution_count": null,
   "id": "2d371f65-c8eb-4457-9b1f-f283938eac6e",
   "metadata": {
    "tags": []
   },
   "outputs": [],
   "source": [
    "import scipp as sc\n",
    "import plopp as pp\n",
    "from beamlime.offline.proto import BeamLimeApplicationManager\n",
    "from beamlime.logging import get_logger\n",
    "import logging\n",
    "from beamlime.logging.handlers import BeamlimeStreamHandler\n",
    "from beamlime.logging.formatters import BeamlimeFormatter\n",
    "%matplotlib widget"
   ]
  },
  {
   "cell_type": "code",
   "execution_count": null,
   "id": "e0342ed0-de4d-419a-9952-706d87f0fb28",
   "metadata": {
    "tags": []
   },
   "outputs": [],
   "source": [
    "logger = sc.get_logger()\n",
    "logger.setLevel('INFO')\n",
    "widget_handler = sc.logging.make_widget_handler()\n",
    "logger.addHandler(widget_handler)"
   ]
  },
  {
   "cell_type": "code",
   "execution_count": null,
   "id": "ce97003f-027f-4649-afd5-92a52d135bf3",
   "metadata": {
    "tags": []
   },
   "outputs": [],
   "source": [
    "sc.display_logs()"
   ]
  },
  {
   "cell_type": "code",
   "execution_count": null,
   "id": "21216669-a8c1-45c8-9c2f-11d7e0eff0bf",
   "metadata": {
    "tags": []
   },
   "outputs": [],
   "source": [
    "# get_logger().addHandler(BeamlimeStreamHandler(header=True))\n",
    "# get_logger().setLevel('INFO')\n",
    "# manager = BeamLimeApplicationManager(save_log=True)\n",
    "manager = BeamLimeApplicationManager(logger=logger)"
   ]
  },
  {
   "cell_type": "code",
   "execution_count": null,
   "id": "ee588828-b095-4038-abf0-5e51c19f4c5e",
   "metadata": {
    "tags": []
   },
   "outputs": [],
   "source": [
    "import asyncio\n",
    "loop = asyncio.get_event_loop()\n",
    "\n",
    "for coroutine in manager.coroutines:\n",
    "    asyncio.run_coroutine_threadsafe(coroutine, loop)\n",
    "    \n",
    "# manager.create_task()"
   ]
  },
  {
   "cell_type": "code",
   "execution_count": null,
   "id": "917f6bfc-129c-495c-9472-65aef5d87027",
   "metadata": {
    "tags": []
   },
   "outputs": [],
   "source": [
    "manager.app_instances['visualization']._instances[0].figs['heatmap']"
   ]
  }
 ],
 "metadata": {
  "kernelspec": {
   "display_name": "Python 3 (ipykernel)",
   "language": "python",
   "name": "python3"
  },
  "language_info": {
   "codemirror_mode": {
    "name": "ipython",
    "version": 3
   },
   "file_extension": ".py",
   "mimetype": "text/x-python",
   "name": "python",
   "nbconvert_exporter": "python",
   "pygments_lexer": "ipython3",
   "version": "3.9.16"
  }
 },
 "nbformat": 4,
 "nbformat_minor": 5
}
