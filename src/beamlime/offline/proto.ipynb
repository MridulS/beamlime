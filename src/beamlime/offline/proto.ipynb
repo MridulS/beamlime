{
 "cells": [
  {
   "cell_type": "code",
   "execution_count": null,
   "id": "2d371f65-c8eb-4457-9b1f-f283938eac6e",
   "metadata": {
    "tags": []
   },
   "outputs": [],
   "source": [
    "import asyncio\n",
    "import scipp as sc\n",
    "import plopp as pp\n",
    "from queue import Queue, Empty\n",
    "\n",
    "%matplotlib widget\n",
    "from beamlime.resources.generated import load_static_default_config"
   ]
  },
  {
   "cell_type": "code",
   "execution_count": null,
   "id": "4e9044a9-caa6-464f-bd0c-46bb4f25e22d",
   "metadata": {
    "tags": []
   },
   "outputs": [],
   "source": [
    "global_da = sc.DataArray(data=sc.zeros(sizes={'y': 64, 'x': 64}),\n",
    "                         coords={'x': sc.linspace('x', 0, 65, 65, unit='mm'),\n",
    "                                 'y': sc.linspace('y', 0, 65, 65, unit='mm')})"
   ]
  },
  {
   "cell_type": "code",
   "execution_count": null,
   "id": "b1a2323b-53ac-4d3b-97e6-db6f51b7fee5",
   "metadata": {
    "tags": []
   },
   "outputs": [],
   "source": [
    "def get_data():\n",
    "    global global_da\n",
    "    return global_da\n",
    "\n",
    "stream_node = pp.Node(get_data)"
   ]
  },
  {
   "cell_type": "code",
   "execution_count": null,
   "id": "e9ad60b5-34a5-466c-b367-d132083e4e52",
   "metadata": {
    "tags": []
   },
   "outputs": [],
   "source": [
    "class RealtimePlot:\n",
    "    _input_ch = None\n",
    "    _output_ch = None\n",
    "\n",
    "    def __init__(self) -> None:\n",
    "        pass\n",
    "\n",
    "    @property\n",
    "    def input_channel(self):\n",
    "        return self._input_ch\n",
    "\n",
    "    @input_channel.setter\n",
    "    def input_channel(self, input_channel):\n",
    "        self._input_ch = input_channel\n",
    "\n",
    "    @property\n",
    "    def output_channel(self):\n",
    "        return self._output_ch\n",
    "    \n",
    "    @output_channel.setter\n",
    "    def output_channel(self, output_channel):\n",
    "        self._output_ch = output_channel\n",
    "    \n",
    "    def set_stream_node(self, stream_node):\n",
    "        self.stream_node = stream_node\n",
    "\n",
    "    @staticmethod\n",
    "    async def retrieve_new_data(queue):\n",
    "        try:\n",
    "            return queue.get(block=False, timeout=2)\n",
    "        except Empty:\n",
    "            return None\n",
    "    \n",
    "    @staticmethod\n",
    "    def process(new_data):\n",
    "        global global_da\n",
    "        global_da.values = new_data['heatmap'].values\n",
    "        global stream_node\n",
    "        stream_node.notify_children('update')\n",
    "        return f\"value updated with frame number {new_data['frame-number-counting']}\"\n",
    "\n",
    "    @staticmethod\n",
    "    async def _run(ear: Queue, mouth: Queue):\n",
    "        await asyncio.sleep(2)\n",
    "        new_data = await RealtimePlot.retrieve_new_data(ear)\n",
    "        while new_data is not None:\n",
    "            result = RealtimePlot.process(new_data)\n",
    "            await asyncio.sleep(0.5)\n",
    "            new_data = await RealtimePlot.retrieve_new_data(ear)\n",
    "            print(result)\n",
    "\n",
    "    def create_task(self):\n",
    "        return asyncio.create_task(\n",
    "            self._run(ear=self.input_channel,\n",
    "                      mouth=self.output_channel)\n",
    "        )\n"
   ]
  },
  {
   "cell_type": "code",
   "execution_count": null,
   "id": "27059c50-21d2-41ae-9c8b-32fbc8fa31f9",
   "metadata": {
    "tags": []
   },
   "outputs": [],
   "source": [
    "def build_instances(config: dict):\n",
    "    from importlib import import_module\n",
    "\n",
    "    itf_map = dict()\n",
    "    for itf in config[\"data-stream\"][\"applications\"]:\n",
    "        itf_map[itf[\"name\"]] = itf\n",
    "        handler_name = itf[\"data-handler\"].split(\".\")\n",
    "        dh_parent = \".\".join(handler_name[:-1])\n",
    "        dh_class = handler_name[-1]\n",
    "        if len(dh_parent) > 0:\n",
    "            parent_module = import_module(dh_parent)\n",
    "        else:\n",
    "            parent_module = import_module(__name__)\n",
    "\n",
    "        handler = getattr(parent_module, dh_class)\n",
    "\n",
    "        # This if statements will be replaced parsed arguments from configuration.\n",
    "        if dh_class == \"BeamLimeDataReductionApplication\":\n",
    "            itf[\"instance\"] = handler(config=config[\"data-reduction\"])\n",
    "        elif dh_class == \"Fake2dDetectorImageFeeder\":\n",
    "            itf[\"instance\"] = handler(config={\"num-frame\": 10,\n",
    "                                              \"noise-range\": 0.5})\n",
    "        else:\n",
    "            itf[\"instance\"] = handler()\n",
    "    return itf_map"
   ]
  },
  {
   "cell_type": "code",
   "execution_count": null,
   "id": "3dbe1cfa-cb47-4a60-8d32-fd5c38ee024b",
   "metadata": {
    "tags": []
   },
   "outputs": [],
   "source": [
    "def connect_instances(config: dict, itf_map: dict):\n",
    "    for mapping in config[\"data-stream\"][\"applications-mapping\"]:\n",
    "        sender_config = itf_map[mapping[\"from\"]]\n",
    "        receiver_config = itf_map[mapping[\"to\"]]\n",
    "        if sender_config[\"output-channel\"] != receiver_config[\"input-channel\"]:\n",
    "            raise ValueError(\n",
    "                \"`input-channel` of the `from` interface\"\n",
    "                \" and the `output-channel` of the `to` interface\"\n",
    "                \"should have the same option.\"\n",
    "            )\n",
    "\n",
    "        sender = sender_config[\"instance\"]\n",
    "        receiver = receiver_config[\"instance\"]\n",
    "        \n",
    "        if receiver_config[\"output-channel\"] == \"QUEUE\":\n",
    "            if (receiver.input_channel is None and sender.output_channel is None):\n",
    "                new_queue = Queue(maxsize=100)\n",
    "                sender.output_channel = new_queue\n",
    "                receiver.input_channel = new_queue\n",
    "            elif (receiver.input_channel != sender.output_channel):\n",
    "                raise RuntimeError(\"There's a problem in the mapping\")\n"
   ]
  },
  {
   "cell_type": "code",
   "execution_count": null,
   "id": "66b4ae93-a985-48d5-89e3-358ac6688963",
   "metadata": {
    "tags": []
   },
   "outputs": [],
   "source": [
    "config = load_static_default_config()\n",
    "itf_map = build_instances(config)\n",
    "connect_instances(config, itf_map)"
   ]
  },
  {
   "cell_type": "code",
   "execution_count": null,
   "id": "6f33dbb0-ac41-41e4-85e8-7b55bd7bdca8",
   "metadata": {
    "tags": []
   },
   "outputs": [],
   "source": [
    "def main(instances: list):\n",
    "    tasks = [inst.create_task() for inst in instances]"
   ]
  },
  {
   "cell_type": "code",
   "execution_count": null,
   "id": "a2636918-9abf-4b63-81e8-c9cd227a795a",
   "metadata": {
    "tags": []
   },
   "outputs": [],
   "source": [
    "fig = pp.figure2d(stream_node)"
   ]
  },
  {
   "cell_type": "code",
   "execution_count": null,
   "id": "6e6dbb1e-5d7e-41ef-a7cb-3a44db22cc92",
   "metadata": {
    "tags": []
   },
   "outputs": [],
   "source": [
    "fig"
   ]
  },
  {
   "cell_type": "code",
   "execution_count": null,
   "id": "3a2b5968-3586-4b96-839c-756188a65f50",
   "metadata": {
    "tags": []
   },
   "outputs": [],
   "source": [
    "main([inst[\"instance\"] for inst in itf_map.values()])"
   ]
  }
 ],
 "metadata": {
  "kernelspec": {
   "display_name": "Python 3 (ipykernel)",
   "language": "python",
   "name": "python3"
  },
  "language_info": {
   "codemirror_mode": {
    "name": "ipython",
    "version": 3
   },
   "file_extension": ".py",
   "mimetype": "text/x-python",
   "name": "python",
   "nbconvert_exporter": "python",
   "pygments_lexer": "ipython3",
   "version": "3.10.9"
  }
 },
 "nbformat": 4,
 "nbformat_minor": 5
}
