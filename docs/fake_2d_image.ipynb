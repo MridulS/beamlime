{
 "cells": [
  {
   "cell_type": "markdown",
   "id": "d30f75e5-6e48-4768-a650-0cc8f5c7b698",
   "metadata": {},
   "source": [
    "# Fake 2d Detector Image Generator\n",
    "\n",
    "``fake_2d_detector_img_generator`` in the module ``beamlime.resources.images.generators``\n",
    "\n",
    "creates a number of frames(2d arrays) from the ``seed_img`` and yield one at a time.\n",
    "\n",
    "We could use real physics ``simulation`` to generate a fake data, but that is too expensive,\n",
    "\n",
    "so it will only create predictable fake-data in a simple way.\n",
    "\n",
    "Here it shows how the ``seed_img`` is manipulated and how each frame looks like."
   ]
  },
  {
   "cell_type": "code",
   "execution_count": null,
   "id": "48d3a6e8-c97a-49ef-be51-49c3f5c42669",
   "metadata": {
    "tags": []
   },
   "outputs": [],
   "source": [
    "import scipp as sc\n",
    "import plopp as pp\n",
    "import numpy as np\n",
    "from matplotlib import pyplot as plt\n",
    "from beamlime.resources.images import load_icon_img\n",
    "from beamlime.resources.images.generators import fake_2d_detector_img_generator\n",
    "\n",
    "%matplotlib widget"
   ]
  },
  {
   "cell_type": "markdown",
   "id": "b4a488fc-6e11-43d2-89a4-259e76246c9f",
   "metadata": {},
   "source": [
    "## Original Image\n",
    "\n",
    "We are going to use our lime icon image as a seed image\n",
    "\n",
    "as if we are taking a picture of imbaglio-carved lime on a metal plate.\n",
    "\n",
    "The original icon image looks like below."
   ]
  },
  {
   "cell_type": "code",
   "execution_count": null,
   "id": "1a8dd8ba-ccfc-4685-b1f8-ce5a2f52e026",
   "metadata": {
    "tags": []
   },
   "outputs": [],
   "source": [
    "from PIL import Image\n",
    "from PIL.ImageOps import flip\n",
    "original_img = Image.fromarray(np.uint8(load_icon_img()))\n",
    "plt.imshow(Image.fromarray(np.uint8(original_img)))"
   ]
  },
  {
   "cell_type": "markdown",
   "id": "f1ac020a-7239-4a64-8253-b52abba443cb",
   "metadata": {},
   "source": [
    "## Seed Image\n",
    "\n",
    "And then we will reduce the image size to avoid too much computing.\n",
    "\n",
    "We also flip this since the image (0, 0) is top-left and histogram plot (0, 0) is top-bottom"
   ]
  },
  {
   "cell_type": "code",
   "execution_count": null,
   "id": "64983e62-642a-4958-b7e9-f06ad513ff9a",
   "metadata": {
    "tags": []
   },
   "outputs": [],
   "source": [
    "detector_size = (64, 64)\n",
    "resized_img = original_img.resize(detector_size)\n",
    "seed_img = np.asarray(flip(resized_img), dtype=np.float64)"
   ]
  },
  {
   "cell_type": "markdown",
   "id": "2feb1c51-af5a-4b1e-9ed5-54fdfb50b307",
   "metadata": {},
   "source": [
    "## Fake Images\n",
    "\n",
    "Now we will generate the images and accumulate them.\n",
    "\n",
    "\n",
    "### Without Noise\n",
    "\n",
    "First, we will set ``noise_range`` to 0, to see the clean view."
   ]
  },
  {
   "cell_type": "code",
   "execution_count": null,
   "id": "dd3b5977-e232-4dcc-ab5e-ce7a694c1d9b",
   "metadata": {
    "tags": []
   },
   "outputs": [],
   "source": [
    "base = sc.DataArray(data=sc.zeros(sizes={'y': detector_size[1], 'x': detector_size[0]}),\n",
    "                    coords={'x': sc.linspace('x', 0, detector_size[0]+1, detector_size[0]+1, unit='mm'),\n",
    "                            'y': sc.linspace('y', 0, detector_size[1]+1, detector_size[1]+1, unit='mm')})\n",
    "\n",
    "generator = iter(fake_2d_detector_img_generator(seed_img, num_frame=128, min_intensity=0.5,\n",
    "                                                signal_mu=0.5, signal_err=0.3,\n",
    "                                                noise_mu=0, noise_err=0))\n",
    "\n",
    "for isimg, simg in enumerate(generator):\n",
    "    base.values *= (isimg/(isimg+1))\n",
    "    base.values += simg/(isimg+1)\n",
    "\n",
    "base.plot(title=\"Without Noise\")"
   ]
  },
  {
   "cell_type": "markdown",
   "id": "c63b681a-86f5-4676-95c1-c8a7bbc1af63",
   "metadata": {},
   "source": [
    "### With Noise\n",
    "\n",
    "And now we can set the ``noise_range`` to 0.55 then the images look more dirty.\n",
    "\n",
    "The lime is almost hidden in the noise.\n",
    "\n",
    "It is for the dummy data reduction, which will filter the pixels by threshold.\n",
    "\n",
    "After the data reduction, you will be able to see the lime."
   ]
  },
  {
   "cell_type": "code",
   "execution_count": null,
   "id": "b2574fb3-1c8b-4d9c-bdfe-ad9a669ec919",
   "metadata": {
    "tags": []
   },
   "outputs": [],
   "source": [
    "plt.close()"
   ]
  },
  {
   "cell_type": "code",
   "execution_count": null,
   "id": "6db4d790-c0cf-4c23-9b39-63ca6b9f3f62",
   "metadata": {
    "tags": []
   },
   "outputs": [],
   "source": [
    "base = sc.DataArray(data=sc.zeros(sizes={'y': detector_size[1], 'x': detector_size[0]}),\n",
    "                    coords={'x': sc.linspace('x', 0, detector_size[0]+1, detector_size[0]+1, unit='mm'),\n",
    "                            'y': sc.linspace('y', 0, detector_size[1]+1, detector_size[1]+1, unit='mm')})\n",
    "\n",
    "generator = iter(fake_2d_detector_img_generator(seed_img, num_frame=128, min_intensity=0.5,\n",
    "                                                signal_mu=0.3, signal_err=0.3,\n",
    "                                                noise_mu=1, noise_err=0.3))\n",
    "for isimg, simg in enumerate(generator):\n",
    "    base.values *= (isimg/(isimg+1))\n",
    "    base.values += simg/(isimg+1)\n",
    "\n",
    "base.plot(title=\"With Noise (mu=1, std=0.3)\")"
   ]
  },
  {
   "cell_type": "markdown",
   "id": "609fd195-2491-444a-98c4-1a6b408efee5",
   "metadata": {},
   "source": [
    "### Single Frame\n",
    "\n",
    "Each frame looks like below.\n",
    "\n",
    "They are all randomly split so every time you call the generator, it will create a different set of images.\n",
    "\n",
    "Note that it creates all the frames at once when it's first called, and yield one at a time.\n",
    "\n",
    "So don't use too high number for the frames.\n",
    "\n",
    "If the ``num_frame`` is higher, each frame will contain less valid pixel above threshold."
   ]
  },
  {
   "cell_type": "code",
   "execution_count": null,
   "id": "981f1ce1-ebfe-42a1-aa8a-ff40506e6630",
   "metadata": {
    "tags": []
   },
   "outputs": [],
   "source": [
    "fig, axs = plt.subplots(3, 6, figsize=(12,6))\n",
    "fig.suptitle('Detector Image Frames To Be Fed - First 18')\n",
    "\n",
    "generator = iter(fake_2d_detector_img_generator(seed_img, num_frame=128, min_intensity=0.5,\n",
    "                                                signal_mu=0.5, signal_err=0.3,\n",
    "                                                noise_mu=0.9, noise_err=0.3))\n",
    "for iframe, simg in enumerate(generator):\n",
    "    frame = sc.DataArray(data=sc.array(dims=['x', 'y'], values=simg),\n",
    "                        coords={'x': sc.linspace('x', 0, detector_size[0]+1, detector_size[0]+1, unit='mm'),\n",
    "                                'y': sc.linspace('y', 0, detector_size[1]+1, detector_size[1]+1, unit='mm')})\n",
    "    if iframe < 18:\n",
    "        ax_x = iframe % 6\n",
    "        ax_y = iframe // 6\n",
    "        ax = axs[ax_y][ax_x]\n",
    "        frame.plot(ax=ax).cax.set(ylabel=None, yticks=[])\n",
    "        ax.set(xlabel=None, ylabel=None, xticks=[], yticks=[])"
   ]
  },
  {
   "cell_type": "markdown",
   "id": "ec72661e-f2af-45a8-ab1a-2e80b55dbfa3",
   "metadata": {},
   "source": [
    "# Fake Data Stream\n",
    "\n",
    "``Fake2dDetectorImageFeeder`` in the ``beamlime.offline.data_feeder`` uses this generator.\n",
    "\n",
    "The data feeder will wrap this image into a dictionary and send it to the stream.\n",
    "\n",
    "It is the example of the dictionary it will return."
   ]
  },
  {
   "cell_type": "code",
   "execution_count": null,
   "id": "b9b0b51f-5eb3-4f0b-ace9-1575d9604412",
   "metadata": {
    "tags": []
   },
   "outputs": [],
   "source": [
    "first_frame = next(fake_2d_detector_img_generator(seed_img))\n",
    "fake_data = {\n",
    "                \"sample_id\": \"typical-lime-intaglio-0\",\n",
    "                \"timestamp\": 0,\n",
    "                \"detector-data\": {\n",
    "                    \"detector-id\": \"unknown-2d-detector\",\n",
    "                    \"image\": frame,\n",
    "                },\n",
    "            }\n",
    "\n",
    "\n",
    "fake_data['detector-data'] = sc.DataGroup(fake_data['detector-data'])\n",
    "sc.DataGroup(fake_data)  ## wrapping dictionary with scipp.DataGroup for formatting."
   ]
  }
 ],
 "metadata": {
  "kernelspec": {
   "display_name": "Python 3 (ipykernel)",
   "language": "python",
   "name": "python3"
  },
  "language_info": {
   "codemirror_mode": {
    "name": "ipython",
    "version": 3
   },
   "file_extension": ".py",
   "mimetype": "text/x-python",
   "name": "python",
   "nbconvert_exporter": "python",
   "pygments_lexer": "ipython3",
   "version": "3.10.9"
  }
 },
 "nbformat": 4,
 "nbformat_minor": 5
}
