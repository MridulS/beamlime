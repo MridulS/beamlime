{
 "cells": [
  {
   "cell_type": "markdown",
   "metadata": {},
   "source": [
    "# Live Data Reduction\n",
    "\n",
    "This page shows the rough idea of how the live data reduction can look like in jupyter notebook."
   ]
  },
  {
   "cell_type": "code",
   "execution_count": null,
   "metadata": {
    "nbsphinx": "hidden"
   },
   "outputs": [],
   "source": [
    "import sys\n",
    "\n",
    "sys.path.append('../../')  # To use ``docs`` as a package.\n",
    "sys.path.append('../../tests/helpers/')  # To use ``tests`` as a package."
   ]
  },
  {
   "cell_type": "code",
   "execution_count": null,
   "metadata": {},
   "outputs": [],
   "source": [
    "%matplotlib widget\n",
    "import scipp as sc\n",
    "\n",
    "sc.get_logger().addHandler(sc.logging.make_widget_handler())\n",
    "sc.display_logs()"
   ]
  },
  {
   "cell_type": "code",
   "execution_count": null,
   "metadata": {},
   "outputs": [],
   "source": [
    "from tests.prototypes.prototype_mini import mini_prototype_factory, BeamlimeLogger, Prototype, PlotContainer, multiple_constant_providers\n",
    "from tests.prototypes.parameters import EventRate, NumPixels, NumFrames\n",
    "import logging\n",
    "\n",
    "prototype_factory = mini_prototype_factory()\n",
    "with multiple_constant_providers(\n",
    "    prototype_factory,\n",
    "    {\n",
    "        BeamlimeLogger: sc.get_logger(),\n",
    "        # Increase these numbers to make it slower.\n",
    "        EventRate: EventRate(10_000),\n",
    "        NumPixels: NumPixels(10_000),\n",
    "        NumFrames: NumFrames(140)  \n",
    "    }\n",
    "):\n",
    "    prototype_factory[BeamlimeLogger].setLevel(logging.DEBUG)\n",
    "    prototype_factory[Prototype].run()\n"
   ]
  },
  {
   "cell_type": "code",
   "execution_count": null,
   "metadata": {},
   "outputs": [],
   "source": [
    "shown = False\n",
    "tried = 0\n",
    "while not shown and (tried < 300):\n",
    "    try:\n",
    "        tried += 1\n",
    "        assert prototype_factory[PlotContainer].histogram is not None\n",
    "        shown = True\n",
    "    except (AttributeError, AssertionError):\n",
    "        ...\n",
    "\n",
    "prototype_factory[PlotContainer].histogram"
   ]
  }
 ],
 "metadata": {
  "kernelspec": {
   "display_name": "Python 3 (ipykernel)",
   "language": "python",
   "name": "python3"
  },
  "language_info": {
   "codemirror_mode": {
    "name": "ipython",
    "version": 3
   },
   "file_extension": ".py",
   "mimetype": "text/x-python",
   "name": "python",
   "nbconvert_exporter": "python",
   "pygments_lexer": "ipython3",
   "version": "3.9.18"
  }
 },
 "nbformat": 4,
 "nbformat_minor": 4
}
