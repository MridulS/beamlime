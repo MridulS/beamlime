{
 "cells": [
  {
   "cell_type": "markdown",
   "metadata": {},
   "source": [
    "# Live Data Reduction\n",
    "\n",
    "\n",
    "## From Terminal\n",
    "\n",
    "You can run the ``beamlime`` command from your terminal to run the application and see the real-time update of a plot.\n",
    "\n",
    "```bash\n",
    "beamlime --image-path beamlime_plot.png\n",
    "```\n",
    "\n",
    "This command will save the plot into ``beamlime_plot.png``."
   ]
  },
  {
   "cell_type": "markdown",
   "metadata": {},
   "source": [
    "## Jupyter Environment\n",
    "\n",
    "You can also run the same thing in jupyter environment\n",
    "and use ``plopp`` matplotlib widget to see the real-time updated plot.\n",
    "\n",
    "**It uses the same ``PlotHandler`` as above,**\n",
    "**so running this application will create a file called ``beamlime_plot.png`` in the current directory.**"
   ]
  },
  {
   "cell_type": "code",
   "execution_count": null,
   "metadata": {},
   "outputs": [],
   "source": [
    "%matplotlib widget\n",
    "import scipp as sc\n",
    "\n",
    "sc.get_logger().addHandler(sc.logging.make_widget_handler())\n",
    "sc.display_logs()"
   ]
  },
  {
   "cell_type": "code",
   "execution_count": null,
   "metadata": {},
   "outputs": [],
   "source": [
    "from beamlime.constructors import multiple_constant_providers, SingletonProvider\n",
    "from beamlime.applications.handlers import ImagePath, DataReductionHandler, RawDataSent, HistogramUpdated, PlotSaver\n",
    "from beamlime.applications.daemons import DataStreamSimulator\n",
    "from beamlime.applications.base import Application\n",
    "from beamlime.executables.prototypes import default_prototype_factory\n",
    "from beamlime.logging import BeamlimeLogger\n",
    "from beamlime.applications._parameters import EventRate, NumPixels, NumFrames, DataFeedingSpeed\n",
    "from matplotlib import pyplot as plt\n",
    "\n",
    "import logging, pathlib\n",
    "\n",
    "prototype_factory = default_prototype_factory()\n",
    "# Replace the default data reduction handler provider with a singleton provider.\n",
    "# So that we can access to the figure that it is using to plot the histogram.\n",
    "prototype_factory.providers.pop(DataReductionHandler)  # Remove the default handler.\n",
    "prototype_factory.providers[DataReductionHandler] = SingletonProvider(DataReductionHandler)\n",
    "\n",
    "with multiple_constant_providers(\n",
    "    prototype_factory,\n",
    "    {\n",
    "        BeamlimeLogger: sc.get_logger(),\n",
    "        DataFeedingSpeed: DataFeedingSpeed(1),\n",
    "        EventRate: EventRate(10_000),\n",
    "        NumPixels: NumPixels(10_000),\n",
    "        NumFrames: NumFrames(140),\n",
    "        ImagePath: ImagePath(pathlib.Path('./beamlime_plot.png')),\n",
    "    }\n",
    "):\n",
    "    prototype_factory[BeamlimeLogger].setLevel(logging.INFO)\n",
    "\n",
    "    # Build the application\n",
    "    app = prototype_factory[Application]\n",
    "    # Register Handlers\n",
    "    plot_saver = prototype_factory[PlotSaver]\n",
    "    app.register_handling_method(HistogramUpdated, plot_saver.save_histogram)\n",
    "    data_reduction_handler = prototype_factory[DataReductionHandler]\n",
    "    app.register_handling_method(\n",
    "        RawDataSent, data_reduction_handler.process_message\n",
    "    )\n",
    "    # Register Daemons\n",
    "    app.register_daemon(prototype_factory[DataStreamSimulator])\n",
    "\n",
    "    app.run()\n",
    "    plt.close()  # Close the plot from this cell.\n"
   ]
  },
  {
   "cell_type": "code",
   "execution_count": null,
   "metadata": {},
   "outputs": [],
   "source": [
    "import asyncio\n",
    "\n",
    "async def show_figure():\n",
    "    \"\"\"Wait for the figure to be created and then show it.\"\"\"\n",
    "    shown = False\n",
    "    tried = 0\n",
    "    while not shown and (tried < 300):\n",
    "        try:\n",
    "            tried += 1\n",
    "            assert hasattr(data_reduction_handler, 'figure')\n",
    "            shown = True\n",
    "        except (AttributeError, AssertionError):        \n",
    "            await asyncio.sleep(0.1)\n",
    "\n",
    "    return data_reduction_handler.figure\n",
    "\n",
    "await show_figure()"
   ]
  }
 ],
 "metadata": {
  "kernelspec": {
   "display_name": "Python 3 (ipykernel)",
   "language": "python",
   "name": "python3"
  },
  "language_info": {
   "codemirror_mode": {
    "name": "ipython",
    "version": 3
   },
   "file_extension": ".py",
   "mimetype": "text/x-python",
   "name": "python",
   "nbconvert_exporter": "python",
   "pygments_lexer": "ipython3",
   "version": "3.10.13"
  }
 },
 "nbformat": 4,
 "nbformat_minor": 4
}
