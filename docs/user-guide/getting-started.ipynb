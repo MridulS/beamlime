{
 "cells": [
  {
   "cell_type": "markdown",
   "metadata": {},
   "source": [
    "# Getting Started\n",
    "\n",
    "## Running Beamlime\n",
    "\n",
    "Run the `beamlime` command, and specify which workflow to use.\n",
    "Usually this would be done from a terminal.\n",
    "The current setup plots the results of the workflow and saves them to a file, which can we specify using the `--image-path` flag:"
   ]
  },
  {
   "cell_type": "code",
   "execution_count": null,
   "metadata": {},
   "outputs": [],
   "source": [
    "!beamlime \\\n",
    "    --workflow dummy \\\n",
    "    --image-path reduction-result"
   ]
  },
  {
   "cell_type": "markdown",
   "metadata": {},
   "source": [
    "The dummy workflow returns a single result named \"random-counts\", which is added as a suffix to the output file name:\n",
    "\n",
    "![Plot of reduction result](reduction-result-random-counts.png)"
   ]
  }
 ],
 "metadata": {
  "kernelspec": {
   "display_name": "dev310",
   "language": "python",
   "name": "python3"
  },
  "language_info": {
   "codemirror_mode": {
    "name": "ipython",
    "version": 3
   },
   "file_extension": ".py",
   "mimetype": "text/x-python",
   "name": "python",
   "nbconvert_exporter": "python",
   "pygments_lexer": "ipython3",
   "version": "3.10.12"
  }
 },
 "nbformat": 4,
 "nbformat_minor": 2
}
